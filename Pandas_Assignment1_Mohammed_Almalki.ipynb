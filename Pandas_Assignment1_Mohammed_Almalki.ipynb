{
 "cells": [
  {
   "cell_type": "code",
   "execution_count": 1,
   "id": "d3aaed2d",
   "metadata": {},
   "outputs": [],
   "source": [
    "import pandas as pd"
   ]
  },
  {
   "cell_type": "markdown",
   "id": "c8502047",
   "metadata": {},
   "source": [
    "## Q1: Create a Series with indexes = 1, 2, 3 and has three names."
   ]
  },
  {
   "cell_type": "code",
   "execution_count": 89,
   "id": "dc122631",
   "metadata": {},
   "outputs": [
    {
     "data": {
      "text/plain": [
       "1    mohammed\n",
       "2      shatha\n",
       "3       ahmad\n",
       "dtype: object"
      ]
     },
     "execution_count": 89,
     "metadata": {},
     "output_type": "execute_result"
    }
   ],
   "source": [
    "index =[1,2,3]\n",
    "name=['mohammed','shatha','ahmad']\n",
    "se1=pd.Series(name,index=index)\n",
    "se1"
   ]
  },
  {
   "cell_type": "markdown",
   "id": "443e73f6",
   "metadata": {},
   "source": [
    "## Q2: Change indexes to 11, 12, 13."
   ]
  },
  {
   "cell_type": "code",
   "execution_count": 90,
   "id": "ae224dba",
   "metadata": {},
   "outputs": [],
   "source": [
    "se1.index=[11,12,13]"
   ]
  },
  {
   "cell_type": "markdown",
   "id": "7f562099",
   "metadata": {},
   "source": [
    "## Q3: Retrieve First and second elements."
   ]
  },
  {
   "cell_type": "code",
   "execution_count": 93,
   "id": "bbe9dee3",
   "metadata": {},
   "outputs": [
    {
     "name": "stdout",
     "output_type": "stream",
     "text": [
      "mohammed shatha\n"
     ]
    }
   ],
   "source": [
    "print(se1[11],se1[12])\n"
   ]
  },
  {
   "cell_type": "markdown",
   "id": "c771754d",
   "metadata": {},
   "source": [
    "## Q4: Add duplicate elements, then remove the duplication."
   ]
  },
  {
   "cell_type": "code",
   "execution_count": 65,
   "id": "cf5a1d1a",
   "metadata": {},
   "outputs": [
    {
     "name": "stdout",
     "output_type": "stream",
     "text": [
      "11    mohammed\n",
      "12      shatha\n",
      "15        rayn\n",
      "dtype: object\n",
      "\n",
      "2     mohammed\n",
      "14        rayn\n",
      "dtype: object\n",
      "\n",
      "11    mohammed\n",
      "12      shatha\n",
      "15        rayn\n",
      "2     mohammed\n",
      "14        rayn\n",
      "dtype: object\n",
      "\n",
      "11    mohammed\n",
      "12      shatha\n",
      "15        rayn\n",
      "dtype: object\n"
     ]
    },
    {
     "name": "stderr",
     "output_type": "stream",
     "text": [
      "C:\\Users\\Fzm20\\AppData\\Local\\Temp\\ipykernel_16576\\1467443769.py:8: FutureWarning: The series.append method is deprecated and will be removed from pandas in a future version. Use pandas.concat instead.\n",
      "  ser2= ser2.append(se3)\n"
     ]
    }
   ],
   "source": [
    "se2={11:'mohammed',12:'shatha',15:'rayn'}\n",
    "ser2=pd.Series(se2)\n",
    "print(ser2)\n",
    "print()\n",
    "\n",
    "se3=pd.Series({2:\"mohammed\",14:\"rayn\"})\n",
    "print(se3)\n",
    "ser2= ser2.append(se3)\n",
    "print()\n",
    "print(ser2)\n",
    "du=ser2\n",
    "print()\n",
    "print(du.drop_duplicates())"
   ]
  },
  {
   "cell_type": "markdown",
   "id": "329164fe",
   "metadata": {},
   "source": [
    "## Q5: Create a Students DataFrame has three columns (ID, Name, GPA)."
   ]
  },
  {
   "cell_type": "code",
   "execution_count": 40,
   "id": "873e1727",
   "metadata": {},
   "outputs": [
    {
     "name": "stdout",
     "output_type": "stream",
     "text": [
      "   ID      Name   GPA\n",
      "0   1  mohammed  3.07\n",
      "1   2    shatha  2.92\n",
      "2   3      moon  1.95\n",
      "3   4     rayan  3.10\n",
      "4   5       ali  3.95\n"
     ]
    }
   ],
   "source": [
    "data={'ID':[1,2,3,4,5],\n",
    "           'Name':['mohammed','shatha','moon','rayan','ali'],\n",
    "            'GPA':[3.07,2.92,1.95,3.1,3.95]}\n",
    "student=pd.DataFrame(data,columns=data.keys())\n",
    "print(student)"
   ]
  },
  {
   "cell_type": "markdown",
   "id": "2808d244",
   "metadata": {},
   "source": [
    "## Q6: Read educ_figdp_1_Data.csv file and print the head."
   ]
  },
  {
   "cell_type": "code",
   "execution_count": 67,
   "id": "3b0baf98",
   "metadata": {},
   "outputs": [
    {
     "name": "stdout",
     "output_type": "stream",
     "text": [
      "     TIME                            GEO  \\\n",
      "0    2000  European Union (28 countries)   \n",
      "1    2001  European Union (28 countries)   \n",
      "2    2002  European Union (28 countries)   \n",
      "3    2003  European Union (28 countries)   \n",
      "4    2004  European Union (28 countries)   \n",
      "..    ...                            ...   \n",
      "379  2007                        Finland   \n",
      "380  2008                        Finland   \n",
      "381  2009                        Finland   \n",
      "382  2010                        Finland   \n",
      "383  2011                        Finland   \n",
      "\n",
      "                                              INDIC_ED Value  \\\n",
      "0    Total public expenditure on education as % of ...     :   \n",
      "1    Total public expenditure on education as % of ...     :   \n",
      "2    Total public expenditure on education as % of ...  5.00   \n",
      "3    Total public expenditure on education as % of ...  5.03   \n",
      "4    Total public expenditure on education as % of ...  4.95   \n",
      "..                                                 ...   ...   \n",
      "379  Total public expenditure on education as % of ...  5.90   \n",
      "380  Total public expenditure on education as % of ...  6.10   \n",
      "381  Total public expenditure on education as % of ...  6.81   \n",
      "382  Total public expenditure on education as % of ...  6.85   \n",
      "383  Total public expenditure on education as % of ...  6.76   \n",
      "\n",
      "    Flag and Footnotes  \n",
      "0                  NaN  \n",
      "1                  NaN  \n",
      "2                    e  \n",
      "3                    e  \n",
      "4                    e  \n",
      "..                 ...  \n",
      "379                NaN  \n",
      "380                NaN  \n",
      "381                NaN  \n",
      "382                NaN  \n",
      "383                NaN  \n",
      "\n",
      "[384 rows x 5 columns]\n"
     ]
    }
   ],
   "source": [
    "edu=pd.read_csv(\"C:/all_folder/Tw/Pandas/educ_figdp_1_Data.csv\")\n",
    "print(edu)"
   ]
  },
  {
   "cell_type": "markdown",
   "id": "34574733",
   "metadata": {},
   "source": [
    "## Q7: Give an example shows the difference between loc and slicing?\n",
    "**Note:**\n",
    "- loc use the index labels as references.\n",
    "- slice use the position as references."
   ]
  },
  {
   "cell_type": "code",
   "execution_count": 81,
   "id": "0d5876f7",
   "metadata": {},
   "outputs": [
    {
     "data": {
      "text/html": [
       "<div>\n",
       "<style scoped>\n",
       "    .dataframe tbody tr th:only-of-type {\n",
       "        vertical-align: middle;\n",
       "    }\n",
       "\n",
       "    .dataframe tbody tr th {\n",
       "        vertical-align: top;\n",
       "    }\n",
       "\n",
       "    .dataframe thead th {\n",
       "        text-align: right;\n",
       "    }\n",
       "</style>\n",
       "<table border=\"1\" class=\"dataframe\">\n",
       "  <thead>\n",
       "    <tr style=\"text-align: right;\">\n",
       "      <th></th>\n",
       "      <th>TIME</th>\n",
       "      <th>GEO</th>\n",
       "      <th>INDIC_ED</th>\n",
       "      <th>Value</th>\n",
       "      <th>Flag and Footnotes</th>\n",
       "    </tr>\n",
       "  </thead>\n",
       "  <tbody>\n",
       "    <tr>\n",
       "      <th>40</th>\n",
       "      <td>2004</td>\n",
       "      <td>Euro area (18 countries)</td>\n",
       "      <td>Total public expenditure on education as % of ...</td>\n",
       "      <td>4.80</td>\n",
       "      <td>e</td>\n",
       "    </tr>\n",
       "    <tr>\n",
       "      <th>41</th>\n",
       "      <td>2005</td>\n",
       "      <td>Euro area (18 countries)</td>\n",
       "      <td>Total public expenditure on education as % of ...</td>\n",
       "      <td>4.72</td>\n",
       "      <td>e</td>\n",
       "    </tr>\n",
       "    <tr>\n",
       "      <th>42</th>\n",
       "      <td>2006</td>\n",
       "      <td>Euro area (18 countries)</td>\n",
       "      <td>Total public expenditure on education as % of ...</td>\n",
       "      <td>4.69</td>\n",
       "      <td>e</td>\n",
       "    </tr>\n",
       "    <tr>\n",
       "      <th>43</th>\n",
       "      <td>2007</td>\n",
       "      <td>Euro area (18 countries)</td>\n",
       "      <td>Total public expenditure on education as % of ...</td>\n",
       "      <td>4.79</td>\n",
       "      <td>e</td>\n",
       "    </tr>\n",
       "    <tr>\n",
       "      <th>44</th>\n",
       "      <td>2008</td>\n",
       "      <td>Euro area (18 countries)</td>\n",
       "      <td>Total public expenditure on education as % of ...</td>\n",
       "      <td>4.94</td>\n",
       "      <td>e</td>\n",
       "    </tr>\n",
       "    <tr>\n",
       "      <th>45</th>\n",
       "      <td>2009</td>\n",
       "      <td>Euro area (18 countries)</td>\n",
       "      <td>Total public expenditure on education as % of ...</td>\n",
       "      <td>5.31</td>\n",
       "      <td>e</td>\n",
       "    </tr>\n",
       "    <tr>\n",
       "      <th>46</th>\n",
       "      <td>2010</td>\n",
       "      <td>Euro area (18 countries)</td>\n",
       "      <td>Total public expenditure on education as % of ...</td>\n",
       "      <td>5.28</td>\n",
       "      <td>e</td>\n",
       "    </tr>\n",
       "    <tr>\n",
       "      <th>47</th>\n",
       "      <td>2011</td>\n",
       "      <td>Euro area (18 countries)</td>\n",
       "      <td>Total public expenditure on education as % of ...</td>\n",
       "      <td>5.15</td>\n",
       "      <td>e</td>\n",
       "    </tr>\n",
       "    <tr>\n",
       "      <th>48</th>\n",
       "      <td>2000</td>\n",
       "      <td>Euro area (17 countries)</td>\n",
       "      <td>Total public expenditure on education as % of ...</td>\n",
       "      <td>:</td>\n",
       "      <td>NaN</td>\n",
       "    </tr>\n",
       "    <tr>\n",
       "      <th>49</th>\n",
       "      <td>2001</td>\n",
       "      <td>Euro area (17 countries)</td>\n",
       "      <td>Total public expenditure on education as % of ...</td>\n",
       "      <td>:</td>\n",
       "      <td>NaN</td>\n",
       "    </tr>\n",
       "    <tr>\n",
       "      <th>50</th>\n",
       "      <td>2002</td>\n",
       "      <td>Euro area (17 countries)</td>\n",
       "      <td>Total public expenditure on education as % of ...</td>\n",
       "      <td>4.86</td>\n",
       "      <td>e</td>\n",
       "    </tr>\n",
       "  </tbody>\n",
       "</table>\n",
       "</div>"
      ],
      "text/plain": [
       "    TIME                       GEO  \\\n",
       "40  2004  Euro area (18 countries)   \n",
       "41  2005  Euro area (18 countries)   \n",
       "42  2006  Euro area (18 countries)   \n",
       "43  2007  Euro area (18 countries)   \n",
       "44  2008  Euro area (18 countries)   \n",
       "45  2009  Euro area (18 countries)   \n",
       "46  2010  Euro area (18 countries)   \n",
       "47  2011  Euro area (18 countries)   \n",
       "48  2000  Euro area (17 countries)   \n",
       "49  2001  Euro area (17 countries)   \n",
       "50  2002  Euro area (17 countries)   \n",
       "\n",
       "                                             INDIC_ED Value Flag and Footnotes  \n",
       "40  Total public expenditure on education as % of ...  4.80                  e  \n",
       "41  Total public expenditure on education as % of ...  4.72                  e  \n",
       "42  Total public expenditure on education as % of ...  4.69                  e  \n",
       "43  Total public expenditure on education as % of ...  4.79                  e  \n",
       "44  Total public expenditure on education as % of ...  4.94                  e  \n",
       "45  Total public expenditure on education as % of ...  5.31                  e  \n",
       "46  Total public expenditure on education as % of ...  5.28                  e  \n",
       "47  Total public expenditure on education as % of ...  5.15                  e  \n",
       "48  Total public expenditure on education as % of ...     :                NaN  \n",
       "49  Total public expenditure on education as % of ...     :                NaN  \n",
       "50  Total public expenditure on education as % of ...  4.86                  e  "
      ]
     },
     "execution_count": 81,
     "metadata": {},
     "output_type": "execute_result"
    }
   ],
   "source": [
    "edu.loc[40:50]"
   ]
  },
  {
   "cell_type": "code",
   "execution_count": 79,
   "id": "b3b1a111",
   "metadata": {},
   "outputs": [
    {
     "data": {
      "text/html": [
       "<div>\n",
       "<style scoped>\n",
       "    .dataframe tbody tr th:only-of-type {\n",
       "        vertical-align: middle;\n",
       "    }\n",
       "\n",
       "    .dataframe tbody tr th {\n",
       "        vertical-align: top;\n",
       "    }\n",
       "\n",
       "    .dataframe thead th {\n",
       "        text-align: right;\n",
       "    }\n",
       "</style>\n",
       "<table border=\"1\" class=\"dataframe\">\n",
       "  <thead>\n",
       "    <tr style=\"text-align: right;\">\n",
       "      <th></th>\n",
       "      <th>TIME</th>\n",
       "      <th>GEO</th>\n",
       "      <th>INDIC_ED</th>\n",
       "      <th>Value</th>\n",
       "      <th>Flag and Footnotes</th>\n",
       "    </tr>\n",
       "  </thead>\n",
       "  <tbody>\n",
       "    <tr>\n",
       "      <th>40</th>\n",
       "      <td>2004</td>\n",
       "      <td>Euro area (18 countries)</td>\n",
       "      <td>Total public expenditure on education as % of ...</td>\n",
       "      <td>4.80</td>\n",
       "      <td>e</td>\n",
       "    </tr>\n",
       "    <tr>\n",
       "      <th>41</th>\n",
       "      <td>2005</td>\n",
       "      <td>Euro area (18 countries)</td>\n",
       "      <td>Total public expenditure on education as % of ...</td>\n",
       "      <td>4.72</td>\n",
       "      <td>e</td>\n",
       "    </tr>\n",
       "    <tr>\n",
       "      <th>42</th>\n",
       "      <td>2006</td>\n",
       "      <td>Euro area (18 countries)</td>\n",
       "      <td>Total public expenditure on education as % of ...</td>\n",
       "      <td>4.69</td>\n",
       "      <td>e</td>\n",
       "    </tr>\n",
       "    <tr>\n",
       "      <th>43</th>\n",
       "      <td>2007</td>\n",
       "      <td>Euro area (18 countries)</td>\n",
       "      <td>Total public expenditure on education as % of ...</td>\n",
       "      <td>4.79</td>\n",
       "      <td>e</td>\n",
       "    </tr>\n",
       "    <tr>\n",
       "      <th>44</th>\n",
       "      <td>2008</td>\n",
       "      <td>Euro area (18 countries)</td>\n",
       "      <td>Total public expenditure on education as % of ...</td>\n",
       "      <td>4.94</td>\n",
       "      <td>e</td>\n",
       "    </tr>\n",
       "    <tr>\n",
       "      <th>45</th>\n",
       "      <td>2009</td>\n",
       "      <td>Euro area (18 countries)</td>\n",
       "      <td>Total public expenditure on education as % of ...</td>\n",
       "      <td>5.31</td>\n",
       "      <td>e</td>\n",
       "    </tr>\n",
       "    <tr>\n",
       "      <th>46</th>\n",
       "      <td>2010</td>\n",
       "      <td>Euro area (18 countries)</td>\n",
       "      <td>Total public expenditure on education as % of ...</td>\n",
       "      <td>5.28</td>\n",
       "      <td>e</td>\n",
       "    </tr>\n",
       "    <tr>\n",
       "      <th>47</th>\n",
       "      <td>2011</td>\n",
       "      <td>Euro area (18 countries)</td>\n",
       "      <td>Total public expenditure on education as % of ...</td>\n",
       "      <td>5.15</td>\n",
       "      <td>e</td>\n",
       "    </tr>\n",
       "    <tr>\n",
       "      <th>48</th>\n",
       "      <td>2000</td>\n",
       "      <td>Euro area (17 countries)</td>\n",
       "      <td>Total public expenditure on education as % of ...</td>\n",
       "      <td>:</td>\n",
       "      <td>NaN</td>\n",
       "    </tr>\n",
       "    <tr>\n",
       "      <th>49</th>\n",
       "      <td>2001</td>\n",
       "      <td>Euro area (17 countries)</td>\n",
       "      <td>Total public expenditure on education as % of ...</td>\n",
       "      <td>:</td>\n",
       "      <td>NaN</td>\n",
       "    </tr>\n",
       "  </tbody>\n",
       "</table>\n",
       "</div>"
      ],
      "text/plain": [
       "    TIME                       GEO  \\\n",
       "40  2004  Euro area (18 countries)   \n",
       "41  2005  Euro area (18 countries)   \n",
       "42  2006  Euro area (18 countries)   \n",
       "43  2007  Euro area (18 countries)   \n",
       "44  2008  Euro area (18 countries)   \n",
       "45  2009  Euro area (18 countries)   \n",
       "46  2010  Euro area (18 countries)   \n",
       "47  2011  Euro area (18 countries)   \n",
       "48  2000  Euro area (17 countries)   \n",
       "49  2001  Euro area (17 countries)   \n",
       "\n",
       "                                             INDIC_ED Value Flag and Footnotes  \n",
       "40  Total public expenditure on education as % of ...  4.80                  e  \n",
       "41  Total public expenditure on education as % of ...  4.72                  e  \n",
       "42  Total public expenditure on education as % of ...  4.69                  e  \n",
       "43  Total public expenditure on education as % of ...  4.79                  e  \n",
       "44  Total public expenditure on education as % of ...  4.94                  e  \n",
       "45  Total public expenditure on education as % of ...  5.31                  e  \n",
       "46  Total public expenditure on education as % of ...  5.28                  e  \n",
       "47  Total public expenditure on education as % of ...  5.15                  e  \n",
       "48  Total public expenditure on education as % of ...     :                NaN  \n",
       "49  Total public expenditure on education as % of ...     :                NaN  "
      ]
     },
     "execution_count": 79,
     "metadata": {},
     "output_type": "execute_result"
    }
   ],
   "source": [
    "edu[40:50]"
   ]
  },
  {
   "cell_type": "code",
   "execution_count": null,
   "id": "d0f6a78b",
   "metadata": {},
   "outputs": [],
   "source": []
  }
 ],
 "metadata": {
  "kernelspec": {
   "display_name": "Python 3 (ipykernel)",
   "language": "python",
   "name": "python3"
  },
  "language_info": {
   "codemirror_mode": {
    "name": "ipython",
    "version": 3
   },
   "file_extension": ".py",
   "mimetype": "text/x-python",
   "name": "python",
   "nbconvert_exporter": "python",
   "pygments_lexer": "ipython3",
   "version": "3.11.3"
  }
 },
 "nbformat": 4,
 "nbformat_minor": 5
}
