{
 "cells": [
  {
   "cell_type": "code",
   "execution_count": 2,
   "id": "d3aaed2d",
   "metadata": {},
   "outputs": [],
   "source": [
    "import pandas as pd"
   ]
  },
  {
   "cell_type": "markdown",
   "id": "c8502047",
   "metadata": {},
   "source": [
    "## Q1: Create a Series with indexes = 1, 2, 3 and has three names."
   ]
  },
  {
   "cell_type": "code",
   "execution_count": 11,
   "id": "dc122631",
   "metadata": {},
   "outputs": [
    {
     "data": {
      "text/plain": [
       "1    Nourah\n",
       "2     Sarah\n",
       "3     Ahmed\n",
       "dtype: object"
      ]
     },
     "execution_count": 11,
     "metadata": {},
     "output_type": "execute_result"
    }
   ],
   "source": [
    "index= [1,2,3]\n",
    "names = ['Nourah', 'Sarah', 'Ahmed']\n",
    "s1 = pd.Series(names, index=index)\n",
    "s1"
   ]
  },
  {
   "cell_type": "markdown",
   "id": "443e73f6",
   "metadata": {},
   "source": [
    "## Q2: Change indexes to 11, 12, 13."
   ]
  },
  {
   "cell_type": "code",
   "execution_count": 12,
   "id": "ae224dba",
   "metadata": {},
   "outputs": [
    {
     "data": {
      "text/plain": [
       "11    Nourah\n",
       "12     Sarah\n",
       "13     Ahmed\n",
       "dtype: object"
      ]
     },
     "execution_count": 12,
     "metadata": {},
     "output_type": "execute_result"
    }
   ],
   "source": [
    "s1.index=[11,12,13]\n",
    "s1"
   ]
  },
  {
   "cell_type": "markdown",
   "id": "7f562099",
   "metadata": {},
   "source": [
    "## Q3: Retrieve First and second elements."
   ]
  },
  {
   "cell_type": "code",
   "execution_count": 19,
   "id": "bbe9dee3",
   "metadata": {},
   "outputs": [
    {
     "name": "stdout",
     "output_type": "stream",
     "text": [
      "Nourah   Sarah\n",
      "11    Nourah\n",
      "12     Sarah\n",
      "dtype: object\n"
     ]
    }
   ],
   "source": [
    "print(s1[11], ' ', s1[12])\n",
    "\n",
    "# second way\n",
    "print(s1[0:2])\n"
   ]
  },
  {
   "cell_type": "markdown",
   "id": "c771754d",
   "metadata": {},
   "source": [
    "## Q4: Add duplicate elements, then remove the duplication."
   ]
  },
  {
   "cell_type": "code",
   "execution_count": 42,
   "id": "cf5a1d1a",
   "metadata": {},
   "outputs": [
    {
     "data": {
      "text/plain": [
       "11    Nourah\n",
       "12     Sarah\n",
       "13     Ahmed\n",
       "dtype: object"
      ]
     },
     "execution_count": 42,
     "metadata": {},
     "output_type": "execute_result"
    }
   ],
   "source": [
    "s2 = pd.Series(['Sarah'])\n",
    "z = pd.concat([s1, s2])\n",
    "# OR\n",
    "# z = pd.concat([s1, s2],ignore_index=True)\n",
    "z=z.drop_duplicates()\n",
    "z"
   ]
  },
  {
   "cell_type": "markdown",
   "id": "329164fe",
   "metadata": {},
   "source": [
    "## Q5: Create a Students DataFrame has three columns (ID, Name, GPA)."
   ]
  },
  {
   "cell_type": "code",
   "execution_count": 28,
   "id": "873e1727",
   "metadata": {},
   "outputs": [
    {
     "data": {
      "text/html": [
       "<div>\n",
       "<style scoped>\n",
       "    .dataframe tbody tr th:only-of-type {\n",
       "        vertical-align: middle;\n",
       "    }\n",
       "\n",
       "    .dataframe tbody tr th {\n",
       "        vertical-align: top;\n",
       "    }\n",
       "\n",
       "    .dataframe thead th {\n",
       "        text-align: right;\n",
       "    }\n",
       "</style>\n",
       "<table border=\"1\" class=\"dataframe\">\n",
       "  <thead>\n",
       "    <tr style=\"text-align: right;\">\n",
       "      <th></th>\n",
       "      <th>ID</th>\n",
       "      <th>Name</th>\n",
       "      <th>GPA</th>\n",
       "    </tr>\n",
       "  </thead>\n",
       "  <tbody>\n",
       "    <tr>\n",
       "      <th>0</th>\n",
       "      <td>1111</td>\n",
       "      <td>Nourah</td>\n",
       "      <td>4.5</td>\n",
       "    </tr>\n",
       "    <tr>\n",
       "      <th>1</th>\n",
       "      <td>2222</td>\n",
       "      <td>Sarah</td>\n",
       "      <td>3.3</td>\n",
       "    </tr>\n",
       "    <tr>\n",
       "      <th>2</th>\n",
       "      <td>3333</td>\n",
       "      <td>Ahmed</td>\n",
       "      <td>4.5</td>\n",
       "    </tr>\n",
       "  </tbody>\n",
       "</table>\n",
       "</div>"
      ],
      "text/plain": [
       "     ID    Name  GPA\n",
       "0  1111  Nourah  4.5\n",
       "1  2222   Sarah  3.3\n",
       "2  3333   Ahmed  4.5"
      ]
     },
     "execution_count": 28,
     "metadata": {},
     "output_type": "execute_result"
    }
   ],
   "source": [
    "data = {'ID': ['1111', '2222', '3333'],\n",
    "        'Name': ['Nourah', 'Sarah', 'Ahmed'],\n",
    "        'GPA': [4.5, 3.3, 4.5]\n",
    "       } \n",
    "students = pd.DataFrame(data, columns=['ID', 'Name', 'GPA'])\n",
    "students  "
   ]
  },
  {
   "cell_type": "markdown",
   "id": "2808d244",
   "metadata": {},
   "source": [
    "## Q6: Read educ_figdp_1_Data.csv file and print the head."
   ]
  },
  {
   "cell_type": "code",
   "execution_count": 31,
   "id": "3b0baf98",
   "metadata": {},
   "outputs": [
    {
     "data": {
      "text/html": [
       "<div>\n",
       "<style scoped>\n",
       "    .dataframe tbody tr th:only-of-type {\n",
       "        vertical-align: middle;\n",
       "    }\n",
       "\n",
       "    .dataframe tbody tr th {\n",
       "        vertical-align: top;\n",
       "    }\n",
       "\n",
       "    .dataframe thead th {\n",
       "        text-align: right;\n",
       "    }\n",
       "</style>\n",
       "<table border=\"1\" class=\"dataframe\">\n",
       "  <thead>\n",
       "    <tr style=\"text-align: right;\">\n",
       "      <th></th>\n",
       "      <th>TIME</th>\n",
       "      <th>GEO</th>\n",
       "      <th>INDIC_ED</th>\n",
       "      <th>Value</th>\n",
       "      <th>Flag and Footnotes</th>\n",
       "    </tr>\n",
       "  </thead>\n",
       "  <tbody>\n",
       "    <tr>\n",
       "      <th>0</th>\n",
       "      <td>2000</td>\n",
       "      <td>European Union (28 countries)</td>\n",
       "      <td>Total public expenditure on education as % of ...</td>\n",
       "      <td>:</td>\n",
       "      <td>NaN</td>\n",
       "    </tr>\n",
       "    <tr>\n",
       "      <th>1</th>\n",
       "      <td>2001</td>\n",
       "      <td>European Union (28 countries)</td>\n",
       "      <td>Total public expenditure on education as % of ...</td>\n",
       "      <td>:</td>\n",
       "      <td>NaN</td>\n",
       "    </tr>\n",
       "    <tr>\n",
       "      <th>2</th>\n",
       "      <td>2002</td>\n",
       "      <td>European Union (28 countries)</td>\n",
       "      <td>Total public expenditure on education as % of ...</td>\n",
       "      <td>5.00</td>\n",
       "      <td>e</td>\n",
       "    </tr>\n",
       "    <tr>\n",
       "      <th>3</th>\n",
       "      <td>2003</td>\n",
       "      <td>European Union (28 countries)</td>\n",
       "      <td>Total public expenditure on education as % of ...</td>\n",
       "      <td>5.03</td>\n",
       "      <td>e</td>\n",
       "    </tr>\n",
       "    <tr>\n",
       "      <th>4</th>\n",
       "      <td>2004</td>\n",
       "      <td>European Union (28 countries)</td>\n",
       "      <td>Total public expenditure on education as % of ...</td>\n",
       "      <td>4.95</td>\n",
       "      <td>e</td>\n",
       "    </tr>\n",
       "  </tbody>\n",
       "</table>\n",
       "</div>"
      ],
      "text/plain": [
       "   TIME                            GEO  \\\n",
       "0  2000  European Union (28 countries)   \n",
       "1  2001  European Union (28 countries)   \n",
       "2  2002  European Union (28 countries)   \n",
       "3  2003  European Union (28 countries)   \n",
       "4  2004  European Union (28 countries)   \n",
       "\n",
       "                                            INDIC_ED Value Flag and Footnotes  \n",
       "0  Total public expenditure on education as % of ...     :                NaN  \n",
       "1  Total public expenditure on education as % of ...     :                NaN  \n",
       "2  Total public expenditure on education as % of ...  5.00                  e  \n",
       "3  Total public expenditure on education as % of ...  5.03                  e  \n",
       "4  Total public expenditure on education as % of ...  4.95                  e  "
      ]
     },
     "execution_count": 31,
     "metadata": {},
     "output_type": "execute_result"
    }
   ],
   "source": [
    "read = pd.read_csv('educ_figdp_1_Data.csv')\n",
    "read.head()"
   ]
  },
  {
   "cell_type": "markdown",
   "id": "34574733",
   "metadata": {},
   "source": [
    "## Q7: Give an example shows the difference between loc and slicing?\n",
    "**Note:**\n",
    "- loc use the index labels as references.\n",
    "- slice use the position as references."
   ]
  },
  {
   "cell_type": "code",
   "execution_count": 48,
   "id": "0d5876f7",
   "metadata": {},
   "outputs": [
    {
     "data": {
      "text/html": [
       "<div>\n",
       "<style scoped>\n",
       "    .dataframe tbody tr th:only-of-type {\n",
       "        vertical-align: middle;\n",
       "    }\n",
       "\n",
       "    .dataframe tbody tr th {\n",
       "        vertical-align: top;\n",
       "    }\n",
       "\n",
       "    .dataframe thead th {\n",
       "        text-align: right;\n",
       "    }\n",
       "</style>\n",
       "<table border=\"1\" class=\"dataframe\">\n",
       "  <thead>\n",
       "    <tr style=\"text-align: right;\">\n",
       "      <th></th>\n",
       "      <th>TIME</th>\n",
       "      <th>GEO</th>\n",
       "      <th>INDIC_ED</th>\n",
       "      <th>Value</th>\n",
       "      <th>Flag and Footnotes</th>\n",
       "    </tr>\n",
       "  </thead>\n",
       "  <tbody>\n",
       "    <tr>\n",
       "      <th>0</th>\n",
       "      <td>2000</td>\n",
       "      <td>European Union (28 countries)</td>\n",
       "      <td>Total public expenditure on education as % of ...</td>\n",
       "      <td>:</td>\n",
       "      <td>NaN</td>\n",
       "    </tr>\n",
       "    <tr>\n",
       "      <th>1</th>\n",
       "      <td>2001</td>\n",
       "      <td>European Union (28 countries)</td>\n",
       "      <td>Total public expenditure on education as % of ...</td>\n",
       "      <td>:</td>\n",
       "      <td>NaN</td>\n",
       "    </tr>\n",
       "    <tr>\n",
       "      <th>2</th>\n",
       "      <td>2002</td>\n",
       "      <td>European Union (28 countries)</td>\n",
       "      <td>Total public expenditure on education as % of ...</td>\n",
       "      <td>5.00</td>\n",
       "      <td>e</td>\n",
       "    </tr>\n",
       "  </tbody>\n",
       "</table>\n",
       "</div>"
      ],
      "text/plain": [
       "   TIME                            GEO  \\\n",
       "0  2000  European Union (28 countries)   \n",
       "1  2001  European Union (28 countries)   \n",
       "2  2002  European Union (28 countries)   \n",
       "\n",
       "                                            INDIC_ED Value Flag and Footnotes  \n",
       "0  Total public expenditure on education as % of ...     :                NaN  \n",
       "1  Total public expenditure on education as % of ...     :                NaN  \n",
       "2  Total public expenditure on education as % of ...  5.00                  e  "
      ]
     },
     "execution_count": 48,
     "metadata": {},
     "output_type": "execute_result"
    }
   ],
   "source": [
    "# slice\n",
    "read[0:3]"
   ]
  },
  {
   "cell_type": "code",
   "execution_count": 49,
   "id": "5b658cb1",
   "metadata": {},
   "outputs": [
    {
     "data": {
      "text/html": [
       "<div>\n",
       "<style scoped>\n",
       "    .dataframe tbody tr th:only-of-type {\n",
       "        vertical-align: middle;\n",
       "    }\n",
       "\n",
       "    .dataframe tbody tr th {\n",
       "        vertical-align: top;\n",
       "    }\n",
       "\n",
       "    .dataframe thead th {\n",
       "        text-align: right;\n",
       "    }\n",
       "</style>\n",
       "<table border=\"1\" class=\"dataframe\">\n",
       "  <thead>\n",
       "    <tr style=\"text-align: right;\">\n",
       "      <th></th>\n",
       "      <th>TIME</th>\n",
       "      <th>GEO</th>\n",
       "      <th>INDIC_ED</th>\n",
       "      <th>Value</th>\n",
       "      <th>Flag and Footnotes</th>\n",
       "    </tr>\n",
       "  </thead>\n",
       "  <tbody>\n",
       "    <tr>\n",
       "      <th>0</th>\n",
       "      <td>2000</td>\n",
       "      <td>European Union (28 countries)</td>\n",
       "      <td>Total public expenditure on education as % of ...</td>\n",
       "      <td>:</td>\n",
       "      <td>NaN</td>\n",
       "    </tr>\n",
       "    <tr>\n",
       "      <th>1</th>\n",
       "      <td>2001</td>\n",
       "      <td>European Union (28 countries)</td>\n",
       "      <td>Total public expenditure on education as % of ...</td>\n",
       "      <td>:</td>\n",
       "      <td>NaN</td>\n",
       "    </tr>\n",
       "    <tr>\n",
       "      <th>2</th>\n",
       "      <td>2002</td>\n",
       "      <td>European Union (28 countries)</td>\n",
       "      <td>Total public expenditure on education as % of ...</td>\n",
       "      <td>5.00</td>\n",
       "      <td>e</td>\n",
       "    </tr>\n",
       "    <tr>\n",
       "      <th>3</th>\n",
       "      <td>2003</td>\n",
       "      <td>European Union (28 countries)</td>\n",
       "      <td>Total public expenditure on education as % of ...</td>\n",
       "      <td>5.03</td>\n",
       "      <td>e</td>\n",
       "    </tr>\n",
       "  </tbody>\n",
       "</table>\n",
       "</div>"
      ],
      "text/plain": [
       "   TIME                            GEO  \\\n",
       "0  2000  European Union (28 countries)   \n",
       "1  2001  European Union (28 countries)   \n",
       "2  2002  European Union (28 countries)   \n",
       "3  2003  European Union (28 countries)   \n",
       "\n",
       "                                            INDIC_ED Value Flag and Footnotes  \n",
       "0  Total public expenditure on education as % of ...     :                NaN  \n",
       "1  Total public expenditure on education as % of ...     :                NaN  \n",
       "2  Total public expenditure on education as % of ...  5.00                  e  \n",
       "3  Total public expenditure on education as % of ...  5.03                  e  "
      ]
     },
     "execution_count": 49,
     "metadata": {},
     "output_type": "execute_result"
    }
   ],
   "source": [
    "# loc\n",
    "read.loc[0:3]"
   ]
  },
  {
   "cell_type": "code",
   "execution_count": 50,
   "id": "e58a96f2",
   "metadata": {},
   "outputs": [
    {
     "data": {
      "text/html": [
       "<div>\n",
       "<style scoped>\n",
       "    .dataframe tbody tr th:only-of-type {\n",
       "        vertical-align: middle;\n",
       "    }\n",
       "\n",
       "    .dataframe tbody tr th {\n",
       "        vertical-align: top;\n",
       "    }\n",
       "\n",
       "    .dataframe thead th {\n",
       "        text-align: right;\n",
       "    }\n",
       "</style>\n",
       "<table border=\"1\" class=\"dataframe\">\n",
       "  <thead>\n",
       "    <tr style=\"text-align: right;\">\n",
       "      <th></th>\n",
       "      <th>TIME</th>\n",
       "      <th>GEO</th>\n",
       "    </tr>\n",
       "  </thead>\n",
       "  <tbody>\n",
       "    <tr>\n",
       "      <th>0</th>\n",
       "      <td>2000</td>\n",
       "      <td>European Union (28 countries)</td>\n",
       "    </tr>\n",
       "    <tr>\n",
       "      <th>1</th>\n",
       "      <td>2001</td>\n",
       "      <td>European Union (28 countries)</td>\n",
       "    </tr>\n",
       "    <tr>\n",
       "      <th>2</th>\n",
       "      <td>2002</td>\n",
       "      <td>European Union (28 countries)</td>\n",
       "    </tr>\n",
       "    <tr>\n",
       "      <th>3</th>\n",
       "      <td>2003</td>\n",
       "      <td>European Union (28 countries)</td>\n",
       "    </tr>\n",
       "  </tbody>\n",
       "</table>\n",
       "</div>"
      ],
      "text/plain": [
       "   TIME                            GEO\n",
       "0  2000  European Union (28 countries)\n",
       "1  2001  European Union (28 countries)\n",
       "2  2002  European Union (28 countries)\n",
       "3  2003  European Union (28 countries)"
      ]
     },
     "execution_count": 50,
     "metadata": {},
     "output_type": "execute_result"
    }
   ],
   "source": [
    "# loc\n",
    "read.loc[0:3,['TIME', 'GEO']]\n",
    "# difference\n",
    "# in loc the last index is included however in slice it is not\n",
    "# in loc we can specify the columns however in slice we can not"
   ]
  },
  {
   "cell_type": "code",
   "execution_count": null,
   "id": "58d90ca3",
   "metadata": {},
   "outputs": [],
   "source": []
  }
 ],
 "metadata": {
  "kernelspec": {
   "display_name": "Python 3 (ipykernel)",
   "language": "python",
   "name": "python3"
  },
  "language_info": {
   "codemirror_mode": {
    "name": "ipython",
    "version": 3
   },
   "file_extension": ".py",
   "mimetype": "text/x-python",
   "name": "python",
   "nbconvert_exporter": "python",
   "pygments_lexer": "ipython3",
   "version": "3.11.3"
  }
 },
 "nbformat": 4,
 "nbformat_minor": 5
}
