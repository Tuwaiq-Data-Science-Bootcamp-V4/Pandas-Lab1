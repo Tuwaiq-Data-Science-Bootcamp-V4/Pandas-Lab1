{
 "cells": [
  {
   "cell_type": "code",
   "execution_count": 1,
   "id": "d3aaed2d",
   "metadata": {},
   "outputs": [],
   "source": [
    "import pandas as pd"
   ]
  },
  {
   "cell_type": "markdown",
   "id": "c8502047",
   "metadata": {},
   "source": [
    "## Q1: Create a Series with indexes = 1, 2, 3 and has three names."
   ]
  },
  {
   "cell_type": "code",
   "execution_count": 2,
   "id": "dc122631",
   "metadata": {},
   "outputs": [
    {
     "data": {
      "text/plain": [
       "1     Arwa\n",
       "2    Razan\n",
       "3     Rana\n",
       "dtype: object"
      ]
     },
     "execution_count": 2,
     "metadata": {},
     "output_type": "execute_result"
    }
   ],
   "source": [
    "dic = {1:'Arwa',2:'Razan',3:'Rana'}\n",
    "newSeries = pd.Series(dic)\n",
    "newSeries"
   ]
  },
  {
   "cell_type": "markdown",
   "id": "443e73f6",
   "metadata": {},
   "source": [
    "## Q2: Change indexes to 11, 12, 13."
   ]
  },
  {
   "cell_type": "code",
   "execution_count": 3,
   "id": "ae224dba",
   "metadata": {},
   "outputs": [
    {
     "data": {
      "text/plain": [
       "11     Arwa\n",
       "12    Razan\n",
       "13     Rana\n",
       "dtype: object"
      ]
     },
     "execution_count": 3,
     "metadata": {},
     "output_type": "execute_result"
    }
   ],
   "source": [
    "newSeries.index = [11,12,13]\n",
    "newSeries"
   ]
  },
  {
   "cell_type": "markdown",
   "id": "7f562099",
   "metadata": {},
   "source": [
    "## Q3: Retrieve First and second elements."
   ]
  },
  {
   "cell_type": "code",
   "execution_count": 4,
   "id": "bbe9dee3",
   "metadata": {},
   "outputs": [
    {
     "data": {
      "text/plain": [
       "11     Arwa\n",
       "12    Razan\n",
       "dtype: object"
      ]
     },
     "execution_count": 4,
     "metadata": {},
     "output_type": "execute_result"
    }
   ],
   "source": [
    "newSeries[:2]"
   ]
  },
  {
   "cell_type": "markdown",
   "id": "c771754d",
   "metadata": {},
   "source": [
    "## Q4: Add duplicate elements, then remove the duplication."
   ]
  },
  {
   "cell_type": "code",
   "execution_count": 5,
   "id": "cf5a1d1a",
   "metadata": {},
   "outputs": [
    {
     "name": "stderr",
     "output_type": "stream",
     "text": [
      "/var/folders/d4/ykbcmrzx06j9vf9qdfpgwzc00000gn/T/ipykernel_45716/584293557.py:2: FutureWarning: The series.append method is deprecated and will be removed from pandas in a future version. Use pandas.concat instead.\n",
      "  newSeries.append(dic)\n"
     ]
    },
    {
     "data": {
      "text/plain": [
       "11     Arwa\n",
       "12    Razan\n",
       "13     Rana\n",
       "14    Rawan\n",
       "15     Rana\n",
       "16    Razan\n",
       "dtype: object"
      ]
     },
     "execution_count": 5,
     "metadata": {},
     "output_type": "execute_result"
    }
   ],
   "source": [
    "dic = pd.Series({14:'Rawan',15:'Rana',16:'Razan'})\n",
    "newSeries.append(dic)"
   ]
  },
  {
   "cell_type": "code",
   "execution_count": 6,
   "id": "00a71dfa",
   "metadata": {},
   "outputs": [
    {
     "data": {
      "text/plain": [
       "11     Arwa\n",
       "12    Razan\n",
       "13     Rana\n",
       "dtype: object"
      ]
     },
     "execution_count": 6,
     "metadata": {},
     "output_type": "execute_result"
    }
   ],
   "source": [
    "newSeries.drop_duplicates()"
   ]
  },
  {
   "cell_type": "markdown",
   "id": "329164fe",
   "metadata": {},
   "source": [
    "## Q5: Create a Students DataFrame has three columns (ID, Name, GPA)."
   ]
  },
  {
   "cell_type": "code",
   "execution_count": 7,
   "id": "873e1727",
   "metadata": {},
   "outputs": [
    {
     "data": {
      "text/html": [
       "<div>\n",
       "<style scoped>\n",
       "    .dataframe tbody tr th:only-of-type {\n",
       "        vertical-align: middle;\n",
       "    }\n",
       "\n",
       "    .dataframe tbody tr th {\n",
       "        vertical-align: top;\n",
       "    }\n",
       "\n",
       "    .dataframe thead th {\n",
       "        text-align: right;\n",
       "    }\n",
       "</style>\n",
       "<table border=\"1\" class=\"dataframe\">\n",
       "  <thead>\n",
       "    <tr style=\"text-align: right;\">\n",
       "      <th></th>\n",
       "      <th>ID</th>\n",
       "      <th>Name</th>\n",
       "      <th>GPA</th>\n",
       "    </tr>\n",
       "  </thead>\n",
       "  <tbody>\n",
       "    <tr>\n",
       "      <th>0</th>\n",
       "      <td>11</td>\n",
       "      <td>Arwa</td>\n",
       "      <td>4.94</td>\n",
       "    </tr>\n",
       "    <tr>\n",
       "      <th>1</th>\n",
       "      <td>12</td>\n",
       "      <td>Razan</td>\n",
       "      <td>4.50</td>\n",
       "    </tr>\n",
       "    <tr>\n",
       "      <th>2</th>\n",
       "      <td>13</td>\n",
       "      <td>Rana</td>\n",
       "      <td>5.00</td>\n",
       "    </tr>\n",
       "    <tr>\n",
       "      <th>3</th>\n",
       "      <td>14</td>\n",
       "      <td>Rawan</td>\n",
       "      <td>3.75</td>\n",
       "    </tr>\n",
       "  </tbody>\n",
       "</table>\n",
       "</div>"
      ],
      "text/plain": [
       "   ID   Name   GPA\n",
       "0  11   Arwa  4.94\n",
       "1  12  Razan  4.50\n",
       "2  13   Rana  5.00\n",
       "3  14  Rawan  3.75"
      ]
     },
     "execution_count": 7,
     "metadata": {},
     "output_type": "execute_result"
    }
   ],
   "source": [
    "dic = {\n",
    "     'ID':[11,12,13,14],\n",
    "     'Name':['Arwa','Razan','Rana','Rawan'],\n",
    "     'GPA':[4.94,4.50,5,3.75]\n",
    " }\n",
    "df = pd.DataFrame(dic)\n",
    "df"
   ]
  },
  {
   "cell_type": "markdown",
   "id": "2808d244",
   "metadata": {},
   "source": [
    "## Q6: Read educ_figdp_1_Data.csv file and print the head."
   ]
  },
  {
   "cell_type": "code",
   "execution_count": 8,
   "id": "3b0baf98",
   "metadata": {},
   "outputs": [
    {
     "data": {
      "text/html": [
       "<div>\n",
       "<style scoped>\n",
       "    .dataframe tbody tr th:only-of-type {\n",
       "        vertical-align: middle;\n",
       "    }\n",
       "\n",
       "    .dataframe tbody tr th {\n",
       "        vertical-align: top;\n",
       "    }\n",
       "\n",
       "    .dataframe thead th {\n",
       "        text-align: right;\n",
       "    }\n",
       "</style>\n",
       "<table border=\"1\" class=\"dataframe\">\n",
       "  <thead>\n",
       "    <tr style=\"text-align: right;\">\n",
       "      <th></th>\n",
       "      <th>TIME</th>\n",
       "      <th>GEO</th>\n",
       "      <th>INDIC_ED</th>\n",
       "      <th>Value</th>\n",
       "      <th>Flag and Footnotes</th>\n",
       "    </tr>\n",
       "  </thead>\n",
       "  <tbody>\n",
       "    <tr>\n",
       "      <th>0</th>\n",
       "      <td>2000</td>\n",
       "      <td>European Union (28 countries)</td>\n",
       "      <td>Total public expenditure on education as % of ...</td>\n",
       "      <td>:</td>\n",
       "      <td>NaN</td>\n",
       "    </tr>\n",
       "    <tr>\n",
       "      <th>1</th>\n",
       "      <td>2001</td>\n",
       "      <td>European Union (28 countries)</td>\n",
       "      <td>Total public expenditure on education as % of ...</td>\n",
       "      <td>:</td>\n",
       "      <td>NaN</td>\n",
       "    </tr>\n",
       "    <tr>\n",
       "      <th>2</th>\n",
       "      <td>2002</td>\n",
       "      <td>European Union (28 countries)</td>\n",
       "      <td>Total public expenditure on education as % of ...</td>\n",
       "      <td>5.00</td>\n",
       "      <td>e</td>\n",
       "    </tr>\n",
       "    <tr>\n",
       "      <th>3</th>\n",
       "      <td>2003</td>\n",
       "      <td>European Union (28 countries)</td>\n",
       "      <td>Total public expenditure on education as % of ...</td>\n",
       "      <td>5.03</td>\n",
       "      <td>e</td>\n",
       "    </tr>\n",
       "    <tr>\n",
       "      <th>4</th>\n",
       "      <td>2004</td>\n",
       "      <td>European Union (28 countries)</td>\n",
       "      <td>Total public expenditure on education as % of ...</td>\n",
       "      <td>4.95</td>\n",
       "      <td>e</td>\n",
       "    </tr>\n",
       "  </tbody>\n",
       "</table>\n",
       "</div>"
      ],
      "text/plain": [
       "   TIME                            GEO  \\\n",
       "0  2000  European Union (28 countries)   \n",
       "1  2001  European Union (28 countries)   \n",
       "2  2002  European Union (28 countries)   \n",
       "3  2003  European Union (28 countries)   \n",
       "4  2004  European Union (28 countries)   \n",
       "\n",
       "                                            INDIC_ED Value Flag and Footnotes  \n",
       "0  Total public expenditure on education as % of ...     :                NaN  \n",
       "1  Total public expenditure on education as % of ...     :                NaN  \n",
       "2  Total public expenditure on education as % of ...  5.00                  e  \n",
       "3  Total public expenditure on education as % of ...  5.03                  e  \n",
       "4  Total public expenditure on education as % of ...  4.95                  e  "
      ]
     },
     "execution_count": 8,
     "metadata": {},
     "output_type": "execute_result"
    }
   ],
   "source": [
    "df2 = pd.read_csv('educ_figdp_1_Data.csv')\n",
    "df2.head()"
   ]
  },
  {
   "cell_type": "markdown",
   "id": "34574733",
   "metadata": {},
   "source": [
    "## Q7: Give an example shows the difference between loc and slicing?\n",
    "**Note:**\n",
    "- loc use the index labels as references.\n",
    "- slice use the position as references."
   ]
  },
  {
   "cell_type": "code",
   "execution_count": 9,
   "id": "0d5876f7",
   "metadata": {},
   "outputs": [
    {
     "data": {
      "text/html": [
       "<div>\n",
       "<style scoped>\n",
       "    .dataframe tbody tr th:only-of-type {\n",
       "        vertical-align: middle;\n",
       "    }\n",
       "\n",
       "    .dataframe tbody tr th {\n",
       "        vertical-align: top;\n",
       "    }\n",
       "\n",
       "    .dataframe thead th {\n",
       "        text-align: right;\n",
       "    }\n",
       "</style>\n",
       "<table border=\"1\" class=\"dataframe\">\n",
       "  <thead>\n",
       "    <tr style=\"text-align: right;\">\n",
       "      <th></th>\n",
       "      <th>TIME</th>\n",
       "      <th>GEO</th>\n",
       "      <th>INDIC_ED</th>\n",
       "      <th>Value</th>\n",
       "      <th>Flag and Footnotes</th>\n",
       "    </tr>\n",
       "  </thead>\n",
       "  <tbody>\n",
       "    <tr>\n",
       "      <th>1</th>\n",
       "      <td>2001</td>\n",
       "      <td>European Union (28 countries)</td>\n",
       "      <td>Total public expenditure on education as % of ...</td>\n",
       "      <td>:</td>\n",
       "      <td>NaN</td>\n",
       "    </tr>\n",
       "    <tr>\n",
       "      <th>2</th>\n",
       "      <td>2002</td>\n",
       "      <td>European Union (28 countries)</td>\n",
       "      <td>Total public expenditure on education as % of ...</td>\n",
       "      <td>5.00</td>\n",
       "      <td>e</td>\n",
       "    </tr>\n",
       "    <tr>\n",
       "      <th>3</th>\n",
       "      <td>2003</td>\n",
       "      <td>European Union (28 countries)</td>\n",
       "      <td>Total public expenditure on education as % of ...</td>\n",
       "      <td>5.03</td>\n",
       "      <td>e</td>\n",
       "    </tr>\n",
       "    <tr>\n",
       "      <th>4</th>\n",
       "      <td>2004</td>\n",
       "      <td>European Union (28 countries)</td>\n",
       "      <td>Total public expenditure on education as % of ...</td>\n",
       "      <td>4.95</td>\n",
       "      <td>e</td>\n",
       "    </tr>\n",
       "    <tr>\n",
       "      <th>5</th>\n",
       "      <td>2005</td>\n",
       "      <td>European Union (28 countries)</td>\n",
       "      <td>Total public expenditure on education as % of ...</td>\n",
       "      <td>4.92</td>\n",
       "      <td>e</td>\n",
       "    </tr>\n",
       "    <tr>\n",
       "      <th>6</th>\n",
       "      <td>2006</td>\n",
       "      <td>European Union (28 countries)</td>\n",
       "      <td>Total public expenditure on education as % of ...</td>\n",
       "      <td>4.91</td>\n",
       "      <td>e</td>\n",
       "    </tr>\n",
       "    <tr>\n",
       "      <th>7</th>\n",
       "      <td>2007</td>\n",
       "      <td>European Union (28 countries)</td>\n",
       "      <td>Total public expenditure on education as % of ...</td>\n",
       "      <td>4.92</td>\n",
       "      <td>e</td>\n",
       "    </tr>\n",
       "    <tr>\n",
       "      <th>8</th>\n",
       "      <td>2008</td>\n",
       "      <td>European Union (28 countries)</td>\n",
       "      <td>Total public expenditure on education as % of ...</td>\n",
       "      <td>5.04</td>\n",
       "      <td>e</td>\n",
       "    </tr>\n",
       "    <tr>\n",
       "      <th>9</th>\n",
       "      <td>2009</td>\n",
       "      <td>European Union (28 countries)</td>\n",
       "      <td>Total public expenditure on education as % of ...</td>\n",
       "      <td>5.38</td>\n",
       "      <td>e</td>\n",
       "    </tr>\n",
       "    <tr>\n",
       "      <th>10</th>\n",
       "      <td>2010</td>\n",
       "      <td>European Union (28 countries)</td>\n",
       "      <td>Total public expenditure on education as % of ...</td>\n",
       "      <td>5.41</td>\n",
       "      <td>e</td>\n",
       "    </tr>\n",
       "  </tbody>\n",
       "</table>\n",
       "</div>"
      ],
      "text/plain": [
       "    TIME                            GEO  \\\n",
       "1   2001  European Union (28 countries)   \n",
       "2   2002  European Union (28 countries)   \n",
       "3   2003  European Union (28 countries)   \n",
       "4   2004  European Union (28 countries)   \n",
       "5   2005  European Union (28 countries)   \n",
       "6   2006  European Union (28 countries)   \n",
       "7   2007  European Union (28 countries)   \n",
       "8   2008  European Union (28 countries)   \n",
       "9   2009  European Union (28 countries)   \n",
       "10  2010  European Union (28 countries)   \n",
       "\n",
       "                                             INDIC_ED Value Flag and Footnotes  \n",
       "1   Total public expenditure on education as % of ...     :                NaN  \n",
       "2   Total public expenditure on education as % of ...  5.00                  e  \n",
       "3   Total public expenditure on education as % of ...  5.03                  e  \n",
       "4   Total public expenditure on education as % of ...  4.95                  e  \n",
       "5   Total public expenditure on education as % of ...  4.92                  e  \n",
       "6   Total public expenditure on education as % of ...  4.91                  e  \n",
       "7   Total public expenditure on education as % of ...  4.92                  e  \n",
       "8   Total public expenditure on education as % of ...  5.04                  e  \n",
       "9   Total public expenditure on education as % of ...  5.38                  e  \n",
       "10  Total public expenditure on education as % of ...  5.41                  e  "
      ]
     },
     "execution_count": 9,
     "metadata": {},
     "output_type": "execute_result"
    }
   ],
   "source": [
    "df2.loc[1:10]"
   ]
  },
  {
   "cell_type": "code",
   "execution_count": 10,
   "id": "8c7c5d38",
   "metadata": {},
   "outputs": [
    {
     "data": {
      "text/html": [
       "<div>\n",
       "<style scoped>\n",
       "    .dataframe tbody tr th:only-of-type {\n",
       "        vertical-align: middle;\n",
       "    }\n",
       "\n",
       "    .dataframe tbody tr th {\n",
       "        vertical-align: top;\n",
       "    }\n",
       "\n",
       "    .dataframe thead th {\n",
       "        text-align: right;\n",
       "    }\n",
       "</style>\n",
       "<table border=\"1\" class=\"dataframe\">\n",
       "  <thead>\n",
       "    <tr style=\"text-align: right;\">\n",
       "      <th></th>\n",
       "      <th>TIME</th>\n",
       "      <th>GEO</th>\n",
       "      <th>INDIC_ED</th>\n",
       "      <th>Value</th>\n",
       "      <th>Flag and Footnotes</th>\n",
       "    </tr>\n",
       "  </thead>\n",
       "  <tbody>\n",
       "    <tr>\n",
       "      <th>1</th>\n",
       "      <td>2001</td>\n",
       "      <td>European Union (28 countries)</td>\n",
       "      <td>Total public expenditure on education as % of ...</td>\n",
       "      <td>:</td>\n",
       "      <td>NaN</td>\n",
       "    </tr>\n",
       "    <tr>\n",
       "      <th>2</th>\n",
       "      <td>2002</td>\n",
       "      <td>European Union (28 countries)</td>\n",
       "      <td>Total public expenditure on education as % of ...</td>\n",
       "      <td>5.00</td>\n",
       "      <td>e</td>\n",
       "    </tr>\n",
       "    <tr>\n",
       "      <th>3</th>\n",
       "      <td>2003</td>\n",
       "      <td>European Union (28 countries)</td>\n",
       "      <td>Total public expenditure on education as % of ...</td>\n",
       "      <td>5.03</td>\n",
       "      <td>e</td>\n",
       "    </tr>\n",
       "    <tr>\n",
       "      <th>4</th>\n",
       "      <td>2004</td>\n",
       "      <td>European Union (28 countries)</td>\n",
       "      <td>Total public expenditure on education as % of ...</td>\n",
       "      <td>4.95</td>\n",
       "      <td>e</td>\n",
       "    </tr>\n",
       "    <tr>\n",
       "      <th>5</th>\n",
       "      <td>2005</td>\n",
       "      <td>European Union (28 countries)</td>\n",
       "      <td>Total public expenditure on education as % of ...</td>\n",
       "      <td>4.92</td>\n",
       "      <td>e</td>\n",
       "    </tr>\n",
       "    <tr>\n",
       "      <th>6</th>\n",
       "      <td>2006</td>\n",
       "      <td>European Union (28 countries)</td>\n",
       "      <td>Total public expenditure on education as % of ...</td>\n",
       "      <td>4.91</td>\n",
       "      <td>e</td>\n",
       "    </tr>\n",
       "    <tr>\n",
       "      <th>7</th>\n",
       "      <td>2007</td>\n",
       "      <td>European Union (28 countries)</td>\n",
       "      <td>Total public expenditure on education as % of ...</td>\n",
       "      <td>4.92</td>\n",
       "      <td>e</td>\n",
       "    </tr>\n",
       "    <tr>\n",
       "      <th>8</th>\n",
       "      <td>2008</td>\n",
       "      <td>European Union (28 countries)</td>\n",
       "      <td>Total public expenditure on education as % of ...</td>\n",
       "      <td>5.04</td>\n",
       "      <td>e</td>\n",
       "    </tr>\n",
       "    <tr>\n",
       "      <th>9</th>\n",
       "      <td>2009</td>\n",
       "      <td>European Union (28 countries)</td>\n",
       "      <td>Total public expenditure on education as % of ...</td>\n",
       "      <td>5.38</td>\n",
       "      <td>e</td>\n",
       "    </tr>\n",
       "  </tbody>\n",
       "</table>\n",
       "</div>"
      ],
      "text/plain": [
       "   TIME                            GEO  \\\n",
       "1  2001  European Union (28 countries)   \n",
       "2  2002  European Union (28 countries)   \n",
       "3  2003  European Union (28 countries)   \n",
       "4  2004  European Union (28 countries)   \n",
       "5  2005  European Union (28 countries)   \n",
       "6  2006  European Union (28 countries)   \n",
       "7  2007  European Union (28 countries)   \n",
       "8  2008  European Union (28 countries)   \n",
       "9  2009  European Union (28 countries)   \n",
       "\n",
       "                                            INDIC_ED Value Flag and Footnotes  \n",
       "1  Total public expenditure on education as % of ...     :                NaN  \n",
       "2  Total public expenditure on education as % of ...  5.00                  e  \n",
       "3  Total public expenditure on education as % of ...  5.03                  e  \n",
       "4  Total public expenditure on education as % of ...  4.95                  e  \n",
       "5  Total public expenditure on education as % of ...  4.92                  e  \n",
       "6  Total public expenditure on education as % of ...  4.91                  e  \n",
       "7  Total public expenditure on education as % of ...  4.92                  e  \n",
       "8  Total public expenditure on education as % of ...  5.04                  e  \n",
       "9  Total public expenditure on education as % of ...  5.38                  e  "
      ]
     },
     "execution_count": 10,
     "metadata": {},
     "output_type": "execute_result"
    }
   ],
   "source": [
    "df2[1:10]"
   ]
  },
  {
   "cell_type": "code",
   "execution_count": null,
   "id": "5de3c8b9",
   "metadata": {},
   "outputs": [],
   "source": []
  }
 ],
 "metadata": {
  "kernelspec": {
   "display_name": "Python 3 (ipykernel)",
   "language": "python",
   "name": "python3"
  },
  "language_info": {
   "codemirror_mode": {
    "name": "ipython",
    "version": 3
   },
   "file_extension": ".py",
   "mimetype": "text/x-python",
   "name": "python",
   "nbconvert_exporter": "python",
   "pygments_lexer": "ipython3",
   "version": "3.9.12"
  }
 },
 "nbformat": 4,
 "nbformat_minor": 5
}
