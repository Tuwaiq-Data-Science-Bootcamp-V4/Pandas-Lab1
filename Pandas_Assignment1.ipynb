{
 "cells": [
  {
   "cell_type": "code",
   "execution_count": 15,
   "id": "d3aaed2d",
   "metadata": {},
   "outputs": [],
   "source": [
    "import pandas as pd\n",
    "# do not show warnings\n",
    "import warnings\n",
    "warnings.filterwarnings(\"ignore\")"
   ]
  },
  {
   "cell_type": "markdown",
   "id": "c8502047",
   "metadata": {},
   "source": [
    "## Q1: Create a Series with indexes = 1, 2, 3 and has three names."
   ]
  },
  {
   "cell_type": "code",
   "execution_count": 16,
   "id": "dc122631",
   "metadata": {},
   "outputs": [],
   "source": [
    "keys=[1,2,3]\n",
    "names=[\"Sadeem\",\"Raneem\",\"Salem\"]\n",
    "q1 = pd.Series(names , index = keys)"
   ]
  },
  {
   "cell_type": "code",
   "execution_count": 17,
   "id": "8352953b-1049-4814-909e-0b5707e95a5d",
   "metadata": {},
   "outputs": [
    {
     "data": {
      "text/plain": [
       "1    Sadeem\n",
       "2    Raneem\n",
       "3     Salem\n",
       "dtype: object"
      ]
     },
     "execution_count": 37,
     "metadata": {},
     "output_type": "execute_result"
    }
   ],
   "source": [
    "q1"
   ]
  },
  {
   "cell_type": "markdown",
   "id": "443e73f6",
   "metadata": {},
   "source": [
    "## Q2: Change indexes to 11, 12, 13."
   ]
  },
  {
   "cell_type": "code",
   "execution_count": 18,
   "id": "ae224dba",
   "metadata": {},
   "outputs": [],
   "source": [
    "q2 = pd.Series(names , index = [11,12,13])"
   ]
  },
  {
   "cell_type": "code",
   "execution_count": 19,
   "id": "e4b29c98-fbbf-4720-8763-6459b599c639",
   "metadata": {},
   "outputs": [
    {
     "data": {
      "text/plain": [
       "11    Sadeem\n",
       "12    Raneem\n",
       "13     Salem\n",
       "dtype: object"
      ]
     },
     "execution_count": 39,
     "metadata": {},
     "output_type": "execute_result"
    }
   ],
   "source": [
    "q2"
   ]
  },
  {
   "cell_type": "markdown",
   "id": "7f562099",
   "metadata": {},
   "source": [
    "## Q3: Retrieve First and second elements."
   ]
  },
  {
   "cell_type": "code",
   "execution_count": 20,
   "id": "bbe9dee3",
   "metadata": {},
   "outputs": [
    {
     "data": {
      "text/plain": [
       "11    Sadeem\n",
       "12    Raneem\n",
       "dtype: object"
      ]
     },
     "execution_count": 40,
     "metadata": {},
     "output_type": "execute_result"
    }
   ],
   "source": [
    "q2[0:2]"
   ]
  },
  {
   "cell_type": "markdown",
   "id": "c771754d",
   "metadata": {},
   "source": [
    "## Q4: Add duplicate elements, then remove the duplication."
   ]
  },
  {
   "cell_type": "code",
   "execution_count": 42,
   "id": "cf5a1d1a",
   "metadata": {},
   "outputs": [
    {
     "data": {
      "text/plain": [
       "1    Sadeem\n",
       "2    Raneem\n",
       "3     Salem\n",
       "4    Sadeem\n",
       "dtype: object"
      ]
     },
     "execution_count": 42,
     "metadata": {},
     "output_type": "execute_result"
    }
   ],
   "source": [
    "q4 = pd.Series({4:\"Sadeem\"})\n",
    "q1 = q1.append(q4)\n",
    "q1"
   ]
  },
  {
   "cell_type": "code",
   "execution_count": 43,
   "id": "09d55f04-5405-40f0-b7ac-0f7b335663cf",
   "metadata": {},
   "outputs": [
    {
     "data": {
      "text/plain": [
       "1"
      ]
     },
     "execution_count": 43,
     "metadata": {},
     "output_type": "execute_result"
    }
   ],
   "source": [
    "sum(q1.duplicated())"
   ]
  },
  {
   "cell_type": "code",
   "execution_count": 44,
   "id": "4fb00ceb-fc64-44a8-8046-b3ede1a1d58c",
   "metadata": {},
   "outputs": [],
   "source": [
    "q1.drop_duplicates(inplace = True)"
   ]
  },
  {
   "cell_type": "code",
   "execution_count": 45,
   "id": "09b46ed6-5f28-4b4a-9129-fdf838dbacef",
   "metadata": {},
   "outputs": [
    {
     "data": {
      "text/plain": [
       "0"
      ]
     },
     "execution_count": 45,
     "metadata": {},
     "output_type": "execute_result"
    }
   ],
   "source": [
    "sum(q1.duplicated())"
   ]
  },
  {
   "cell_type": "code",
   "execution_count": 46,
   "id": "ba56e9d9-d6a2-4741-8946-12ddf03c0e9f",
   "metadata": {},
   "outputs": [
    {
     "data": {
      "text/plain": [
       "1    Sadeem\n",
       "2    Raneem\n",
       "3     Salem\n",
       "dtype: object"
      ]
     },
     "execution_count": 46,
     "metadata": {},
     "output_type": "execute_result"
    }
   ],
   "source": [
    "q1"
   ]
  },
  {
   "cell_type": "markdown",
   "id": "329164fe",
   "metadata": {},
   "source": [
    "## Q5: Create a Students DataFrame has three columns (ID, Name, GPA)."
   ]
  },
  {
   "cell_type": "code",
   "execution_count": 47,
   "id": "873e1727",
   "metadata": {},
   "outputs": [],
   "source": [
    " Students ={\"ID\":[1,2,3],\n",
    "           \"Name\" :[\"Sadeem\",\"Raneem\",\"Salem\"],\n",
    "            \"GPA\":[\"Bulgaria\", \"Euro area\",\"Bulgaria\"]\n",
    "           }"
   ]
  },
  {
   "cell_type": "code",
   "execution_count": 50,
   "id": "010436f4-3502-46fb-92e4-94afbcfacebd",
   "metadata": {},
   "outputs": [],
   "source": [
    "q5 =pd.DataFrame(Students)"
   ]
  },
  {
   "cell_type": "code",
   "execution_count": 51,
   "id": "db251965-525b-4303-94a7-d7480450c057",
   "metadata": {},
   "outputs": [
    {
     "data": {
      "text/html": [
       "<div>\n",
       "<style scoped>\n",
       "    .dataframe tbody tr th:only-of-type {\n",
       "        vertical-align: middle;\n",
       "    }\n",
       "\n",
       "    .dataframe tbody tr th {\n",
       "        vertical-align: top;\n",
       "    }\n",
       "\n",
       "    .dataframe thead th {\n",
       "        text-align: right;\n",
       "    }\n",
       "</style>\n",
       "<table border=\"1\" class=\"dataframe\">\n",
       "  <thead>\n",
       "    <tr style=\"text-align: right;\">\n",
       "      <th></th>\n",
       "      <th>ID</th>\n",
       "      <th>Name</th>\n",
       "      <th>GPA</th>\n",
       "    </tr>\n",
       "  </thead>\n",
       "  <tbody>\n",
       "    <tr>\n",
       "      <th>0</th>\n",
       "      <td>1</td>\n",
       "      <td>Sadeem</td>\n",
       "      <td>Bulgaria</td>\n",
       "    </tr>\n",
       "    <tr>\n",
       "      <th>1</th>\n",
       "      <td>2</td>\n",
       "      <td>Raneem</td>\n",
       "      <td>Euro area</td>\n",
       "    </tr>\n",
       "    <tr>\n",
       "      <th>2</th>\n",
       "      <td>3</td>\n",
       "      <td>Salem</td>\n",
       "      <td>Bulgaria</td>\n",
       "    </tr>\n",
       "  </tbody>\n",
       "</table>\n",
       "</div>"
      ],
      "text/plain": [
       "   ID    Name        GPA\n",
       "0   1  Sadeem   Bulgaria\n",
       "1   2  Raneem  Euro area\n",
       "2   3   Salem   Bulgaria"
      ]
     },
     "execution_count": 51,
     "metadata": {},
     "output_type": "execute_result"
    }
   ],
   "source": [
    "q5"
   ]
  },
  {
   "cell_type": "markdown",
   "id": "2808d244",
   "metadata": {},
   "source": [
    "## Q6: Read educ_figdp_1_Data.csv file and print the head."
   ]
  },
  {
   "cell_type": "code",
   "execution_count": 52,
   "id": "3b0baf98",
   "metadata": {},
   "outputs": [],
   "source": [
    "q6 = pd.read_csv(\"educ_figdp_1_Data.csv\")"
   ]
  },
  {
   "cell_type": "code",
   "execution_count": 54,
   "id": "d622d79e-2895-4c7e-a5dc-55c4ba875e7d",
   "metadata": {},
   "outputs": [
    {
     "data": {
      "text/html": [
       "<div>\n",
       "<style scoped>\n",
       "    .dataframe tbody tr th:only-of-type {\n",
       "        vertical-align: middle;\n",
       "    }\n",
       "\n",
       "    .dataframe tbody tr th {\n",
       "        vertical-align: top;\n",
       "    }\n",
       "\n",
       "    .dataframe thead th {\n",
       "        text-align: right;\n",
       "    }\n",
       "</style>\n",
       "<table border=\"1\" class=\"dataframe\">\n",
       "  <thead>\n",
       "    <tr style=\"text-align: right;\">\n",
       "      <th></th>\n",
       "      <th>TIME</th>\n",
       "      <th>GEO</th>\n",
       "      <th>INDIC_ED</th>\n",
       "      <th>Value</th>\n",
       "      <th>Flag and Footnotes</th>\n",
       "    </tr>\n",
       "  </thead>\n",
       "  <tbody>\n",
       "    <tr>\n",
       "      <th>0</th>\n",
       "      <td>2000</td>\n",
       "      <td>European Union (28 countries)</td>\n",
       "      <td>Total public expenditure on education as % of ...</td>\n",
       "      <td>:</td>\n",
       "      <td>NaN</td>\n",
       "    </tr>\n",
       "    <tr>\n",
       "      <th>1</th>\n",
       "      <td>2001</td>\n",
       "      <td>European Union (28 countries)</td>\n",
       "      <td>Total public expenditure on education as % of ...</td>\n",
       "      <td>:</td>\n",
       "      <td>NaN</td>\n",
       "    </tr>\n",
       "    <tr>\n",
       "      <th>2</th>\n",
       "      <td>2002</td>\n",
       "      <td>European Union (28 countries)</td>\n",
       "      <td>Total public expenditure on education as % of ...</td>\n",
       "      <td>5.00</td>\n",
       "      <td>e</td>\n",
       "    </tr>\n",
       "  </tbody>\n",
       "</table>\n",
       "</div>"
      ],
      "text/plain": [
       "   TIME                            GEO  \\\n",
       "0  2000  European Union (28 countries)   \n",
       "1  2001  European Union (28 countries)   \n",
       "2  2002  European Union (28 countries)   \n",
       "\n",
       "                                            INDIC_ED Value Flag and Footnotes  \n",
       "0  Total public expenditure on education as % of ...     :                NaN  \n",
       "1  Total public expenditure on education as % of ...     :                NaN  \n",
       "2  Total public expenditure on education as % of ...  5.00                  e  "
      ]
     },
     "execution_count": 54,
     "metadata": {},
     "output_type": "execute_result"
    }
   ],
   "source": [
    "q6.head(3)"
   ]
  },
  {
   "cell_type": "markdown",
   "id": "34574733",
   "metadata": {},
   "source": [
    "## Q7: Give an example shows the difference between loc and slicing?\n",
    "**Note:**\n",
    "- loc use the index labels as references.\n",
    "- slice use the position as references."
   ]
  },
  {
   "cell_type": "code",
   "execution_count": 57,
   "id": "0d5876f7",
   "metadata": {},
   "outputs": [
    {
     "data": {
      "text/html": [
       "<div>\n",
       "<style scoped>\n",
       "    .dataframe tbody tr th:only-of-type {\n",
       "        vertical-align: middle;\n",
       "    }\n",
       "\n",
       "    .dataframe tbody tr th {\n",
       "        vertical-align: top;\n",
       "    }\n",
       "\n",
       "    .dataframe thead th {\n",
       "        text-align: right;\n",
       "    }\n",
       "</style>\n",
       "<table border=\"1\" class=\"dataframe\">\n",
       "  <thead>\n",
       "    <tr style=\"text-align: right;\">\n",
       "      <th></th>\n",
       "      <th>TIME</th>\n",
       "      <th>GEO</th>\n",
       "    </tr>\n",
       "  </thead>\n",
       "  <tbody>\n",
       "    <tr>\n",
       "      <th>50</th>\n",
       "      <td>2002</td>\n",
       "      <td>Euro area (17 countries)</td>\n",
       "    </tr>\n",
       "    <tr>\n",
       "      <th>51</th>\n",
       "      <td>2003</td>\n",
       "      <td>Euro area (17 countries)</td>\n",
       "    </tr>\n",
       "    <tr>\n",
       "      <th>52</th>\n",
       "      <td>2004</td>\n",
       "      <td>Euro area (17 countries)</td>\n",
       "    </tr>\n",
       "    <tr>\n",
       "      <th>53</th>\n",
       "      <td>2005</td>\n",
       "      <td>Euro area (17 countries)</td>\n",
       "    </tr>\n",
       "    <tr>\n",
       "      <th>54</th>\n",
       "      <td>2006</td>\n",
       "      <td>Euro area (17 countries)</td>\n",
       "    </tr>\n",
       "    <tr>\n",
       "      <th>55</th>\n",
       "      <td>2007</td>\n",
       "      <td>Euro area (17 countries)</td>\n",
       "    </tr>\n",
       "    <tr>\n",
       "      <th>56</th>\n",
       "      <td>2008</td>\n",
       "      <td>Euro area (17 countries)</td>\n",
       "    </tr>\n",
       "    <tr>\n",
       "      <th>57</th>\n",
       "      <td>2009</td>\n",
       "      <td>Euro area (17 countries)</td>\n",
       "    </tr>\n",
       "    <tr>\n",
       "      <th>58</th>\n",
       "      <td>2010</td>\n",
       "      <td>Euro area (17 countries)</td>\n",
       "    </tr>\n",
       "    <tr>\n",
       "      <th>59</th>\n",
       "      <td>2011</td>\n",
       "      <td>Euro area (17 countries)</td>\n",
       "    </tr>\n",
       "    <tr>\n",
       "      <th>60</th>\n",
       "      <td>2000</td>\n",
       "      <td>Euro area (15 countries)</td>\n",
       "    </tr>\n",
       "  </tbody>\n",
       "</table>\n",
       "</div>"
      ],
      "text/plain": [
       "    TIME                       GEO\n",
       "50  2002  Euro area (17 countries)\n",
       "51  2003  Euro area (17 countries)\n",
       "52  2004  Euro area (17 countries)\n",
       "53  2005  Euro area (17 countries)\n",
       "54  2006  Euro area (17 countries)\n",
       "55  2007  Euro area (17 countries)\n",
       "56  2008  Euro area (17 countries)\n",
       "57  2009  Euro area (17 countries)\n",
       "58  2010  Euro area (17 countries)\n",
       "59  2011  Euro area (17 countries)\n",
       "60  2000  Euro area (15 countries)"
      ]
     },
     "execution_count": 57,
     "metadata": {},
     "output_type": "execute_result"
    }
   ],
   "source": [
    "#loc use the index labels as references\n",
    "q6.loc[50:60, ['TIME', 'GEO']]"
   ]
  },
  {
   "cell_type": "code",
   "execution_count": 63,
   "id": "fccad4aa-dffd-4928-ac52-a1276c56d8f7",
   "metadata": {},
   "outputs": [
    {
     "data": {
      "text/html": [
       "<div>\n",
       "<style scoped>\n",
       "    .dataframe tbody tr th:only-of-type {\n",
       "        vertical-align: middle;\n",
       "    }\n",
       "\n",
       "    .dataframe tbody tr th {\n",
       "        vertical-align: top;\n",
       "    }\n",
       "\n",
       "    .dataframe thead th {\n",
       "        text-align: right;\n",
       "    }\n",
       "</style>\n",
       "<table border=\"1\" class=\"dataframe\">\n",
       "  <thead>\n",
       "    <tr style=\"text-align: right;\">\n",
       "      <th></th>\n",
       "      <th>TIME</th>\n",
       "      <th>GEO</th>\n",
       "      <th>INDIC_ED</th>\n",
       "      <th>Value</th>\n",
       "      <th>Flag and Footnotes</th>\n",
       "    </tr>\n",
       "  </thead>\n",
       "  <tbody>\n",
       "    <tr>\n",
       "      <th>50</th>\n",
       "      <td>2002</td>\n",
       "      <td>Euro area (17 countries)</td>\n",
       "      <td>Total public expenditure on education as % of ...</td>\n",
       "      <td>4.86</td>\n",
       "      <td>e</td>\n",
       "    </tr>\n",
       "    <tr>\n",
       "      <th>51</th>\n",
       "      <td>2003</td>\n",
       "      <td>Euro area (17 countries)</td>\n",
       "      <td>Total public expenditure on education as % of ...</td>\n",
       "      <td>4.89</td>\n",
       "      <td>e</td>\n",
       "    </tr>\n",
       "    <tr>\n",
       "      <th>52</th>\n",
       "      <td>2004</td>\n",
       "      <td>Euro area (17 countries)</td>\n",
       "      <td>Total public expenditure on education as % of ...</td>\n",
       "      <td>4.80</td>\n",
       "      <td>e</td>\n",
       "    </tr>\n",
       "    <tr>\n",
       "      <th>53</th>\n",
       "      <td>2005</td>\n",
       "      <td>Euro area (17 countries)</td>\n",
       "      <td>Total public expenditure on education as % of ...</td>\n",
       "      <td>4.72</td>\n",
       "      <td>e</td>\n",
       "    </tr>\n",
       "    <tr>\n",
       "      <th>54</th>\n",
       "      <td>2006</td>\n",
       "      <td>Euro area (17 countries)</td>\n",
       "      <td>Total public expenditure on education as % of ...</td>\n",
       "      <td>4.69</td>\n",
       "      <td>e</td>\n",
       "    </tr>\n",
       "    <tr>\n",
       "      <th>55</th>\n",
       "      <td>2007</td>\n",
       "      <td>Euro area (17 countries)</td>\n",
       "      <td>Total public expenditure on education as % of ...</td>\n",
       "      <td>4.79</td>\n",
       "      <td>e</td>\n",
       "    </tr>\n",
       "    <tr>\n",
       "      <th>56</th>\n",
       "      <td>2008</td>\n",
       "      <td>Euro area (17 countries)</td>\n",
       "      <td>Total public expenditure on education as % of ...</td>\n",
       "      <td>4.94</td>\n",
       "      <td>e</td>\n",
       "    </tr>\n",
       "    <tr>\n",
       "      <th>57</th>\n",
       "      <td>2009</td>\n",
       "      <td>Euro area (17 countries)</td>\n",
       "      <td>Total public expenditure on education as % of ...</td>\n",
       "      <td>5.31</td>\n",
       "      <td>e</td>\n",
       "    </tr>\n",
       "    <tr>\n",
       "      <th>58</th>\n",
       "      <td>2010</td>\n",
       "      <td>Euro area (17 countries)</td>\n",
       "      <td>Total public expenditure on education as % of ...</td>\n",
       "      <td>5.28</td>\n",
       "      <td>e</td>\n",
       "    </tr>\n",
       "    <tr>\n",
       "      <th>59</th>\n",
       "      <td>2011</td>\n",
       "      <td>Euro area (17 countries)</td>\n",
       "      <td>Total public expenditure on education as % of ...</td>\n",
       "      <td>5.15</td>\n",
       "      <td>e</td>\n",
       "    </tr>\n",
       "  </tbody>\n",
       "</table>\n",
       "</div>"
      ],
      "text/plain": [
       "    TIME                       GEO  \\\n",
       "50  2002  Euro area (17 countries)   \n",
       "51  2003  Euro area (17 countries)   \n",
       "52  2004  Euro area (17 countries)   \n",
       "53  2005  Euro area (17 countries)   \n",
       "54  2006  Euro area (17 countries)   \n",
       "55  2007  Euro area (17 countries)   \n",
       "56  2008  Euro area (17 countries)   \n",
       "57  2009  Euro area (17 countries)   \n",
       "58  2010  Euro area (17 countries)   \n",
       "59  2011  Euro area (17 countries)   \n",
       "\n",
       "                                             INDIC_ED Value Flag and Footnotes  \n",
       "50  Total public expenditure on education as % of ...  4.86                  e  \n",
       "51  Total public expenditure on education as % of ...  4.89                  e  \n",
       "52  Total public expenditure on education as % of ...  4.80                  e  \n",
       "53  Total public expenditure on education as % of ...  4.72                  e  \n",
       "54  Total public expenditure on education as % of ...  4.69                  e  \n",
       "55  Total public expenditure on education as % of ...  4.79                  e  \n",
       "56  Total public expenditure on education as % of ...  4.94                  e  \n",
       "57  Total public expenditure on education as % of ...  5.31                  e  \n",
       "58  Total public expenditure on education as % of ...  5.28                  e  \n",
       "59  Total public expenditure on education as % of ...  5.15                  e  "
      ]
     },
     "execution_count": 63,
     "metadata": {},
     "output_type": "execute_result"
    }
   ],
   "source": [
    "#slice use the position as references\n",
    "q6[50:60]"
   ]
  },
  {
   "cell_type": "code",
   "execution_count": null,
   "id": "f15ff0db-5a63-448a-8e6c-d8e1f1dbefbc",
   "metadata": {},
   "outputs": [],
   "source": []
  }
 ],
 "metadata": {
  "kernelspec": {
   "display_name": "Python 3 (ipykernel)",
   "language": "python",
   "name": "python3"
  },
  "language_info": {
   "codemirror_mode": {
    "name": "ipython",
    "version": 3
   },
   "file_extension": ".py",
   "mimetype": "text/x-python",
   "name": "python",
   "nbconvert_exporter": "python",
   "pygments_lexer": "ipython3",
   "version": "3.9.13"
  }
 },
 "nbformat": 4,
 "nbformat_minor": 5
}
